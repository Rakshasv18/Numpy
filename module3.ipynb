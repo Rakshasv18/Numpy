{
 "cells": [
  {
   "cell_type": "markdown",
   "id": "6bbae395",
   "metadata": {},
   "source": [
    "## Logic Gates Implementation for AND, NAND, OR, NOR, XOR operations"
   ]
  },
  {
   "cell_type": "markdown",
   "id": "0b8e67f5",
   "metadata": {
    "ExecuteTime": {
     "end_time": "2022-09-25T06:20:33.984410Z",
     "start_time": "2022-09-25T06:20:33.960626Z"
    }
   },
   "source": [
    "|X1 | X2| AND | NAND  | OR | NOR |XOR|\n",
    "|---|---|-----|-------|----|-----|---|\n",
    "| 0 | 0 |  0  |   1   | 0  |  1  | 0 |\n",
    "| 0 | 1 |  0  |   1   | 1  |  0  | 1 |\n",
    "| 1 | 0 |  0  |   1   | 1  |  0  | 1 |\n",
    "| 1 | 1 |  1  |   0   | 1  |  0  | 0 |"
   ]
  },
  {
   "cell_type": "code",
   "execution_count": 1,
   "id": "35c26ea0",
   "metadata": {
    "ExecuteTime": {
     "end_time": "2022-09-25T15:38:06.613300Z",
     "start_time": "2022-09-25T15:38:06.473628Z"
    }
   },
   "outputs": [],
   "source": [
    "#import libraries \n",
    "import numpy as np"
   ]
  },
  {
   "cell_type": "code",
   "execution_count": 2,
   "id": "d51abc2b",
   "metadata": {
    "ExecuteTime": {
     "end_time": "2022-09-25T15:38:06.618717Z",
     "start_time": "2022-09-25T15:38:06.616063Z"
    }
   },
   "outputs": [
    {
     "name": "stdout",
     "output_type": "stream",
     "text": [
      "[(0, 0), (0, 1), (1, 0), (1, 1)]\n"
     ]
    }
   ],
   "source": [
    "#Create Truth table\n",
    "xs = [(0,0), (0,1), (1,0), (1,1)]\n",
    "print(xs)    "
   ]
  },
  {
   "cell_type": "code",
   "execution_count": 3,
   "id": "a09ef313",
   "metadata": {
    "ExecuteTime": {
     "end_time": "2022-09-25T15:38:06.624560Z",
     "start_time": "2022-09-25T15:38:06.621743Z"
    }
   },
   "outputs": [],
   "source": [
    "#do_and function to perform AND operation and bias denoted as b \n",
    "def do_and(x1,x2):\n",
    "    x = np.array([x1,x2])\n",
    "    w = np.array([0.5,0.5])\n",
    "    b = -0.8                   \n",
    "    y = np.sum(x*w) + b \n",
    "    return 1 if y>0 else 0"
   ]
  },
  {
   "cell_type": "code",
   "execution_count": 4,
   "id": "b9b8921d",
   "metadata": {
    "ExecuteTime": {
     "end_time": "2022-09-25T15:38:06.630797Z",
     "start_time": "2022-09-25T15:38:06.627382Z"
    }
   },
   "outputs": [
    {
     "name": "stdout",
     "output_type": "stream",
     "text": [
      "AND operation with 0 and 0, we will have 0\n",
      "AND operation with 0 and 1, we will have 0\n",
      "AND operation with 1 and 0, we will have 0\n",
      "AND operation with 1 and 1, we will have 1\n"
     ]
    }
   ],
   "source": [
    "# calculate y for AND operation of all values in truth table \n",
    "for x in xs:\n",
    "    res = do_and(x[0], x[1])\n",
    "    print(\"AND operation with {} and {}, we will have {}\".format(x[0],x[1],res))"
   ]
  },
  {
   "cell_type": "code",
   "execution_count": 5,
   "id": "6a84895e",
   "metadata": {
    "ExecuteTime": {
     "end_time": "2022-09-25T15:38:06.635557Z",
     "start_time": "2022-09-25T15:38:06.632508Z"
    }
   },
   "outputs": [],
   "source": [
    "#do_nand function to perform Nand operation \n",
    "\n",
    "def do_nand(x1,x2):\n",
    "    return 1 if do_and(x1,x2) == 0 else 0  "
   ]
  },
  {
   "cell_type": "code",
   "execution_count": 6,
   "id": "ddf5fda6",
   "metadata": {
    "ExecuteTime": {
     "end_time": "2022-09-25T15:38:06.639284Z",
     "start_time": "2022-09-25T15:38:06.636661Z"
    }
   },
   "outputs": [
    {
     "name": "stdout",
     "output_type": "stream",
     "text": [
      "NAND operation with 0 and 0, we will have 1\n",
      "NAND operation with 0 and 1, we will have 1\n",
      "NAND operation with 1 and 0, we will have 1\n",
      "NAND operation with 1 and 1, we will have 0\n"
     ]
    }
   ],
   "source": [
    "# calculate y for NAND operation of all values in truth table \n",
    "for x in xs:\n",
    "    ans = do_nand(x[0], x[1])\n",
    "    print(\"NAND operation with {} and {}, we will have {}\".format(x[0],x[1],ans))"
   ]
  },
  {
   "cell_type": "code",
   "execution_count": 7,
   "id": "76687321",
   "metadata": {
    "ExecuteTime": {
     "end_time": "2022-09-25T15:38:06.646368Z",
     "start_time": "2022-09-25T15:38:06.642670Z"
    }
   },
   "outputs": [],
   "source": [
    "#do_or function to perform OR operation and bias denoted as b\n",
    "def do_or(x1,x2):\n",
    "    x = np.array([x1,x2])\n",
    "    w = np.array([0.5,0.5])\n",
    "    b = -0.2\n",
    "    y = np.sum(x*w) + b\n",
    "    return 1 if y > 0 else 0"
   ]
  },
  {
   "cell_type": "code",
   "execution_count": 8,
   "id": "bb23a132",
   "metadata": {
    "ExecuteTime": {
     "end_time": "2022-09-25T15:38:06.651035Z",
     "start_time": "2022-09-25T15:38:06.647668Z"
    }
   },
   "outputs": [
    {
     "name": "stdout",
     "output_type": "stream",
     "text": [
      "OR operation with 0 and 0, we will have 0\n",
      "OR operation with 0 and 1, we will have 1\n",
      "OR operation with 1 and 0, we will have 1\n",
      "OR operation with 1 and 1, we will have 1\n"
     ]
    }
   ],
   "source": [
    "# calculate y for OR operation of all values in truth table \n",
    "\n",
    "for x in xs:\n",
    "    result = do_or(x[0], x[1])\n",
    "    print(\"OR operation with {} and {}, we will have {}\".format(x[0],x[1],result))"
   ]
  },
  {
   "cell_type": "code",
   "execution_count": 9,
   "id": "82683ecb",
   "metadata": {
    "ExecuteTime": {
     "end_time": "2022-09-25T15:38:06.654947Z",
     "start_time": "2022-09-25T15:38:06.652523Z"
    }
   },
   "outputs": [],
   "source": [
    "#do_nor function to perform NOR operation\n",
    "def do_nor(x1,x2):\n",
    "    return 1 if do_or(x1,x2) == 0 else 0"
   ]
  },
  {
   "cell_type": "code",
   "execution_count": 10,
   "id": "5055c11d",
   "metadata": {
    "ExecuteTime": {
     "end_time": "2022-09-25T15:38:06.659611Z",
     "start_time": "2022-09-25T15:38:06.656258Z"
    }
   },
   "outputs": [
    {
     "name": "stdout",
     "output_type": "stream",
     "text": [
      "NOR operation with 0 and 0, we will have 1\n",
      "NOR operation with 0 and 1, we will have 0\n",
      "NOR operation with 1 and 0, we will have 0\n",
      "NOR operation with 1 and 1, we will have 0\n"
     ]
    }
   ],
   "source": [
    "# calculate y for NOR operation of all values in truth table \n",
    "\n",
    "for x in xs:\n",
    "    results = do_nor(x[0], x[1])\n",
    "    print(\"NOR operation with {} and {}, we will have {}\".format(x[0],x[1],results))"
   ]
  },
  {
   "cell_type": "code",
   "execution_count": 11,
   "id": "894a7d48",
   "metadata": {
    "ExecuteTime": {
     "end_time": "2022-09-25T15:38:06.663750Z",
     "start_time": "2022-09-25T15:38:06.661077Z"
    }
   },
   "outputs": [],
   "source": [
    "#do_xor function to perform NOR operation\n",
    "\n",
    "def do_xor(x1,x2):\n",
    "    y1 = do_or(x1,x2)\n",
    "    y2 = do_nand(x1,x2)\n",
    "    y = do_and(y1,y2)\n",
    "    return y "
   ]
  },
  {
   "cell_type": "code",
   "execution_count": 12,
   "id": "13af55c9",
   "metadata": {
    "ExecuteTime": {
     "end_time": "2022-09-25T15:38:06.668666Z",
     "start_time": "2022-09-25T15:38:06.665611Z"
    }
   },
   "outputs": [
    {
     "name": "stdout",
     "output_type": "stream",
     "text": [
      "XOR operation with 0 and 0, we will have 0\n",
      "XOR operation with 0 and 1, we will have 1\n",
      "XOR operation with 1 and 0, we will have 1\n",
      "XOR operation with 1 and 1, we will have 0\n"
     ]
    }
   ],
   "source": [
    "# calculate y for XOR operation of all values in truth table \n",
    "\n",
    "for x in xs:\n",
    "    results_xor = do_xor(x[0], x[1])\n",
    "    print(\"XOR operation with {} and {}, we will have {}\".format(x[0],x[1],results_xor))"
   ]
  }
 ],
 "metadata": {
  "kernelspec": {
   "display_name": "Python 3 (ipykernel)",
   "language": "python",
   "name": "python3"
  },
  "language_info": {
   "codemirror_mode": {
    "name": "ipython",
    "version": 3
   },
   "file_extension": ".py",
   "mimetype": "text/x-python",
   "name": "python",
   "nbconvert_exporter": "python",
   "pygments_lexer": "ipython3",
   "version": "3.7.13"
  },
  "toc": {
   "base_numbering": 1,
   "nav_menu": {},
   "number_sections": true,
   "sideBar": true,
   "skip_h1_title": false,
   "title_cell": "Table of Contents",
   "title_sidebar": "Contents",
   "toc_cell": false,
   "toc_position": {},
   "toc_section_display": true,
   "toc_window_display": false
  }
 },
 "nbformat": 4,
 "nbformat_minor": 5
}
